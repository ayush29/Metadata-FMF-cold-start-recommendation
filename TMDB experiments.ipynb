{
 "cells": [
  {
   "cell_type": "code",
   "execution_count": 1,
   "metadata": {},
   "outputs": [],
   "source": [
    "import project_tmdb_lib\n",
    "import matplotlib.pyplot as plt"
   ]
  },
  {
   "cell_type": "code",
   "execution_count": 2,
   "metadata": {},
   "outputs": [],
   "source": [
    "K = [5,10,15]\n",
    "max_users = [500,1000,1500]\n",
    "Lambda = [0.02,0.04,0.08]\n",
    "max_depth = [5,7,9]\n",
    "iterations = [3,5,7]"
   ]
  },
  {
   "cell_type": "markdown",
   "metadata": {},
   "source": [
    "### Performance with respect to number of Latent Factors"
   ]
  },
  {
   "cell_type": "code",
   "execution_count": 3,
   "metadata": {},
   "outputs": [
    {
     "name": "stdout",
     "output_type": "stream",
     "text": [
      "500\n",
      "7565\n"
     ]
    },
    {
     "name": "stderr",
     "output_type": "stream",
     "text": [
      "project_tmdb_lib.py:44: FutureWarning: Method .as_matrix will be removed in a future version. Use .values instead.\n",
      "  movieFeaturesMat = featuresdf.as_matrix()\n",
      "project_tmdb_lib.py:273: FutureWarning: Method .as_matrix will be removed in a future version. Use .values instead.\n",
      "  rating_matrix = ratingDF.as_matrix()\n",
      "project_tmdb_lib.py:274: FutureWarning: Method .as_matrix will be removed in a future version. Use .values instead.\n",
      "  feature_matrix = featureDF.as_matrix()\n"
     ]
    },
    {
     "name": "stdout",
     "output_type": "stream",
     "text": [
      "('Dimensions of the Dataset: ', (500, 7072))\n",
      "('Dimensions of the Training Set: ', (375, 7072))\n",
      "('Dimensions of the Testing Set: ', (125, 7072))\n",
      "('Dimensions of the Answer Set: ', (93, 7072))\n",
      "('Dimensions of the Evaluation Set: ', (32, 7072))\n",
      "('Number of Users', 375)\n",
      "('Number of Movies', 7072)\n",
      "('Number of Latent Factors: ', 5)\n",
      "Entering Main Loop of alternateOptimization\n",
      "('Predicted_Rating for Test: ', array([[3.02325229, 2.72066599, 2.55468096, ..., 2.95353061, 2.72853529,\n",
      "        3.22463261],\n",
      "       [3.02325229, 2.72066599, 2.55468096, ..., 2.95353061, 2.72853529,\n",
      "        3.22463261],\n",
      "       [3.02325229, 2.72066599, 2.55468096, ..., 2.95353061, 2.72853529,\n",
      "        3.22463261],\n",
      "       ...,\n",
      "       [3.02325229, 2.72066599, 2.55468096, ..., 2.95353061, 2.72853529,\n",
      "        3.22463261],\n",
      "       [3.02325229, 2.72066599, 2.55468096, ..., 2.95353061, 2.72853529,\n",
      "        3.22463261],\n",
      "       [3.02325229, 2.72066599, 2.55468096, ..., 2.95353061, 2.72853529,\n",
      "        3.22463261]]))\n",
      "('Test Rating: ', array([[2. , 0. , 2.5, ..., 0. , 0. , 0. ],\n",
      "       [0. , 0. , 0. , ..., 0. , 0. , 0. ],\n",
      "       [4. , 2. , 3. , ..., 0. , 0. , 0. ],\n",
      "       ...,\n",
      "       [3. , 3. , 2.5, ..., 0. , 0. , 0. ],\n",
      "       [1.5, 2. , 2. , ..., 0. , 0. , 0. ],\n",
      "       [3. , 2.5, 4. , ..., 0. , 0. , 0. ]]))\n",
      "('Root Mean Squared Error(RMS) = ', 781.4380502505913)\n",
      "('RMSE on Testing: ', 781.4380502505913)\n",
      "500\n",
      "7565\n",
      "('Dimensions of the Dataset: ', (500, 7072))\n",
      "('Dimensions of the Training Set: ', (375, 7072))\n",
      "('Dimensions of the Testing Set: ', (125, 7072))\n",
      "('Dimensions of the Answer Set: ', (93, 7072))\n",
      "('Dimensions of the Evaluation Set: ', (32, 7072))\n",
      "('Number of Users', 375)\n",
      "('Number of Movies', 7072)\n",
      "('Number of Latent Factors: ', 10)\n",
      "Entering Main Loop of alternateOptimization\n",
      "('Predicted_Rating for Test: ', array([[2.98789032, 2.67739284, 2.60157726, ..., 0.        , 2.73903769,\n",
      "        3.23704454],\n",
      "       [2.98789032, 2.67739284, 2.60157726, ..., 0.        , 2.73903769,\n",
      "        3.23704454],\n",
      "       [2.98789032, 2.67739284, 2.60157726, ..., 0.        , 2.73903769,\n",
      "        3.23704454],\n",
      "       ...,\n",
      "       [2.98789032, 2.67739284, 2.60157726, ..., 0.        , 2.73903769,\n",
      "        3.23704454],\n",
      "       [2.98789032, 2.67739284, 2.60157726, ..., 0.        , 2.73903769,\n",
      "        3.23704454],\n",
      "       [2.98789032, 2.67739284, 2.60157726, ..., 0.        , 2.73903769,\n",
      "        3.23704454]]))\n",
      "('Test Rating: ', array([[2. , 0. , 0. , ..., 0. , 0. , 0. ],\n",
      "       [2.5, 2. , 2. , ..., 0. , 0. , 0. ],\n",
      "       [4. , 0. , 0. , ..., 0. , 0. , 0. ],\n",
      "       ...,\n",
      "       [0. , 2. , 2.5, ..., 0. , 0. , 0. ],\n",
      "       [0. , 0. , 3. , ..., 0. , 0. , 0. ],\n",
      "       [2.5, 0. , 0. , ..., 0. , 0. , 0. ]]))\n",
      "('Root Mean Squared Error(RMS) = ', 662.551939964174)\n",
      "('RMSE on Testing: ', 662.551939964174)\n",
      "500\n",
      "7565\n",
      "('Dimensions of the Dataset: ', (500, 7072))\n",
      "('Dimensions of the Training Set: ', (375, 7072))\n",
      "('Dimensions of the Testing Set: ', (125, 7072))\n",
      "('Dimensions of the Answer Set: ', (93, 7072))\n",
      "('Dimensions of the Evaluation Set: ', (32, 7072))\n",
      "('Number of Users', 375)\n",
      "('Number of Movies', 7072)\n",
      "('Number of Latent Factors: ', 15)\n",
      "Entering Main Loop of alternateOptimization\n",
      "('Predicted_Rating for Test: ', array([[3.03225862, 2.6999271 , 2.62344816, ..., 2.98428678, 2.7427792 ,\n",
      "        3.24146633],\n",
      "       [3.03225862, 2.6999271 , 2.62344816, ..., 2.98428678, 2.7427792 ,\n",
      "        3.24146633],\n",
      "       [3.03225862, 2.6999271 , 2.62344816, ..., 2.98428678, 2.7427792 ,\n",
      "        3.24146633],\n",
      "       ...,\n",
      "       [3.03225862, 2.6999271 , 2.62344816, ..., 2.98428678, 2.7427792 ,\n",
      "        3.24146633],\n",
      "       [3.03225862, 2.6999271 , 2.62344816, ..., 2.98428678, 2.7427792 ,\n",
      "        3.24146633],\n",
      "       [3.03225862, 2.6999271 , 2.62344816, ..., 2.98428678, 2.7427792 ,\n",
      "        3.24146633]]))\n",
      "('Test Rating: ', array([[0. , 0. , 0. , ..., 0. , 0. , 0. ],\n",
      "       [3. , 4. , 0. , ..., 0. , 0. , 0. ],\n",
      "       [0. , 0. , 0. , ..., 0. , 0. , 0. ],\n",
      "       ...,\n",
      "       [3.5, 4. , 3.5, ..., 0. , 0. , 0. ],\n",
      "       [3. , 3. , 3.5, ..., 0. , 0. , 0. ],\n",
      "       [3. , 0. , 0. , ..., 0. , 0. , 0. ]]))\n",
      "('Root Mean Squared Error(RMS) = ', 927.9260183702869)\n",
      "('RMSE on Testing: ', 927.9260183702869)\n"
     ]
    }
   ],
   "source": [
    "rmse1 = project_tmdb_lib.run(num_factors = K[0])\n",
    "rmse2 = project_tmdb_lib.run(num_factors = K[1])\n",
    "rmse3 = project_tmdb_lib.run(num_factors = K[2])"
   ]
  },
  {
   "cell_type": "code",
   "execution_count": 4,
   "metadata": {},
   "outputs": [
    {
     "data": {
      "image/png": "[encoded data removed]",
      "text/plain": [
       "<Figure size 432x288 with 1 Axes>"
      ]
     },
     "metadata": {
      "needs_background": "light"
     },
     "output_type": "display_data"
    }
   ],
   "source": [
    "rmse = [rmse1,rmse2,rmse3]\n",
    "plt.plot(K, rmse, color='green', linestyle='dashed', linewidth = 3, \n",
    "         marker='o', markerfacecolor='blue', markersize=8)\n",
    "plt.xlabel(\"number of latent factors\")\n",
    "plt.ylabel(\"RMSE\")\n",
    "plt.show()"
   ]
  },
  {
   "cell_type": "markdown",
   "metadata": {},
   "source": [
    "### Performance with respect to max depth of decision tree"
   ]
  },
  {
   "cell_type": "code",
   "execution_count": 5,
   "metadata": {},
   "outputs": [
    {
     "name": "stdout",
     "output_type": "stream",
     "text": [
      "500\n",
      "7565\n",
      "('Dimensions of the Dataset: ', (500, 7072))\n",
      "('Dimensions of the Training Set: ', (375, 7072))\n",
      "('Dimensions of the Testing Set: ', (125, 7072))\n",
      "('Dimensions of the Answer Set: ', (93, 7072))\n",
      "('Dimensions of the Evaluation Set: ', (32, 7072))\n",
      "('Number of Users', 375)\n",
      "('Number of Movies', 7072)\n",
      "('Number of Latent Factors: ', 10)\n",
      "Entering Main Loop of alternateOptimization\n",
      "('Predicted_Rating for Test: ', array([[3.00488814, 2.70477362, 2.58080679, ..., 0.        , 2.73916034,\n",
      "        3.47251647],\n",
      "       [3.00488814, 2.70477362, 2.58080679, ..., 0.        , 2.73916034,\n",
      "        3.47251647],\n",
      "       [3.00488814, 2.70477362, 2.58080679, ..., 0.        , 2.73916034,\n",
      "        3.47251647],\n",
      "       ...,\n",
      "       [3.00488814, 2.70477362, 2.58080679, ..., 0.        , 2.73916034,\n",
      "        3.47251647],\n",
      "       [3.00488814, 2.70477362, 2.58080679, ..., 0.        , 2.73916034,\n",
      "        3.47251647],\n",
      "       [3.00488814, 2.70477362, 2.58080679, ..., 0.        , 2.73916034,\n",
      "        3.47251647]]))\n",
      "('Test Rating: ', array([[0. , 4. , 0. , ..., 0. , 0. , 0. ],\n",
      "       [0.5, 0. , 0. , ..., 0. , 0. , 0. ],\n",
      "       [3.5, 0. , 0. , ..., 0. , 0. , 0. ],\n",
      "       ...,\n",
      "       [0. , 0. , 0. , ..., 0. , 0. , 0. ],\n",
      "       [2. , 2.5, 2.5, ..., 0. , 0. , 0. ],\n",
      "       [4. , 0. , 0. , ..., 0. , 0. , 0. ]]))\n",
      "('Root Mean Squared Error(RMS) = ', 731.91393956944)\n",
      "('RMSE on Testing: ', 731.91393956944)\n",
      "500\n",
      "7565\n",
      "('Dimensions of the Dataset: ', (500, 7072))\n",
      "('Dimensions of the Training Set: ', (375, 7072))\n",
      "('Dimensions of the Testing Set: ', (125, 7072))\n",
      "('Dimensions of the Answer Set: ', (93, 7072))\n",
      "('Dimensions of the Evaluation Set: ', (32, 7072))\n",
      "('Number of Users', 375)\n",
      "('Number of Movies', 7072)\n",
      "('Number of Latent Factors: ', 10)\n",
      "Entering Main Loop of alternateOptimization\n",
      "('Predicted_Rating for Test: ', array([[3.01698291, 2.66489397, 2.55266493, ..., 2.97631657, 2.73910208,\n",
      "        3.47236934],\n",
      "       [3.01698291, 2.66489397, 2.55266493, ..., 2.97631657, 2.73910208,\n",
      "        3.47236934],\n",
      "       [3.01698291, 2.66489397, 2.55266493, ..., 2.97631657, 2.73910208,\n",
      "        3.47236934],\n",
      "       ...,\n",
      "       [3.01698291, 2.66489397, 2.55266493, ..., 2.97631657, 2.73910208,\n",
      "        3.47236934],\n",
      "       [3.01698291, 2.66489397, 2.55266493, ..., 2.97631657, 2.73910208,\n",
      "        3.47236934],\n",
      "       [3.01698291, 2.66489397, 2.55266493, ..., 2.97631657, 2.73910208,\n",
      "        3.47236934]]))\n",
      "('Test Rating: ', array([[3. , 2. , 3. , ..., 0. , 0. , 0. ],\n",
      "       [0. , 0. , 0. , ..., 0. , 0. , 0. ],\n",
      "       [3. , 3. , 2.5, ..., 0. , 0. , 0. ],\n",
      "       ...,\n",
      "       [2. , 3. , 3.5, ..., 0. , 0. , 0. ],\n",
      "       [0. , 0. , 0. , ..., 0. , 0. , 0. ],\n",
      "       [3.5, 0. , 3. , ..., 0. , 0. , 0. ]]))\n",
      "('Root Mean Squared Error(RMS) = ', 742.1926618857685)\n",
      "('RMSE on Testing: ', 742.1926618857685)\n",
      "500\n",
      "7565\n",
      "('Dimensions of the Dataset: ', (500, 7072))\n",
      "('Dimensions of the Training Set: ', (375, 7072))\n",
      "('Dimensions of the Testing Set: ', (125, 7072))\n",
      "('Dimensions of the Answer Set: ', (93, 7072))\n",
      "('Dimensions of the Evaluation Set: ', (32, 7072))\n",
      "('Number of Users', 375)\n",
      "('Number of Movies', 7072)\n",
      "('Number of Latent Factors: ', 10)\n",
      "Entering Main Loop of alternateOptimization\n",
      "('Predicted_Rating for Test: ', array([[3.01868987, 2.69352305, 2.54478969, ..., 2.9764645 , 2.9764645 ,\n",
      "        0.        ],\n",
      "       [3.01868987, 2.69352305, 2.54478969, ..., 2.9764645 , 2.9764645 ,\n",
      "        0.        ],\n",
      "       [3.01868987, 2.69352305, 2.54478969, ..., 2.9764645 , 2.9764645 ,\n",
      "        0.        ],\n",
      "       ...,\n",
      "       [3.01868987, 2.69352305, 2.54478969, ..., 2.9764645 , 2.9764645 ,\n",
      "        0.        ],\n",
      "       [3.01868987, 2.69352305, 2.54478969, ..., 2.9764645 , 2.9764645 ,\n",
      "        0.        ],\n",
      "       [3.01868987, 2.69352305, 2.54478969, ..., 2.9764645 , 2.9764645 ,\n",
      "        0.        ]]))\n",
      "('Test Rating: ', array([[3. , 0. , 0. , ..., 0. , 2.5, 3.5],\n",
      "       [2.5, 0. , 0. , ..., 0. , 0. , 0. ],\n",
      "       [2.5, 0. , 0. , ..., 0. , 0. , 0. ],\n",
      "       ...,\n",
      "       [4.5, 0. , 0. , ..., 0. , 0. , 0. ],\n",
      "       [3. , 0. , 0. , ..., 0. , 0. , 0. ],\n",
      "       [3. , 0. , 0. , ..., 0. , 0. , 0. ]]))\n",
      "('Root Mean Squared Error(RMS) = ', 754.2524612074862)\n",
      "('RMSE on Testing: ', 754.2524612074862)\n"
     ]
    }
   ],
   "source": [
    "rmse1 = project_tmdb_lib.run(max_depth = max_depth[0])\n",
    "rmse2 = project_tmdb_lib.run(max_depth = max_depth[1])\n",
    "rmse3 = project_tmdb_lib.run(max_depth = max_depth[2])"
   ]
  },
  {
   "cell_type": "code",
   "execution_count": 6,
   "metadata": {},
   "outputs": [
    {
     "data": {
      "image/png": "[encoded data removed]",
      "text/plain": [
       "<Figure size 432x288 with 1 Axes>"
      ]
     },
     "metadata": {
      "needs_background": "light"
     },
     "output_type": "display_data"
    }
   ],
   "source": [
    "rmse = [rmse1,rmse2,rmse3]\n",
    "plt.plot(max_depth, rmse, color='orange', linestyle='dashed', linewidth = 3, \n",
    "         marker='o', markerfacecolor='blue', markersize=8)\n",
    "plt.xlabel(\"Max depth of tree\")\n",
    "plt.ylabel(\"RMSE\")\n",
    "plt.show()"
   ]
  },
  {
   "cell_type": "markdown",
   "metadata": {},
   "source": [
    "### Performance with respect to lambda(regularisation parameter)"
   ]
  },
  {
   "cell_type": "code",
   "execution_count": 7,
   "metadata": {},
   "outputs": [
    {
     "name": "stdout",
     "output_type": "stream",
     "text": [
      "500\n",
      "7565\n",
      "('Dimensions of the Dataset: ', (500, 7072))\n",
      "('Dimensions of the Training Set: ', (375, 7072))\n",
      "('Dimensions of the Testing Set: ', (125, 7072))\n",
      "('Dimensions of the Answer Set: ', (93, 7072))\n",
      "('Dimensions of the Evaluation Set: ', (32, 7072))\n",
      "('Number of Users', 375)\n",
      "('Number of Movies', 7072)\n",
      "('Number of Latent Factors: ', 10)\n",
      "Entering Main Loop of alternateOptimization\n",
      "('Predicted_Rating for Test: ', array([[3.02508669, 2.75610937, 2.59227876, ..., 2.97622436, 2.97622436,\n",
      "        2.97622436],\n",
      "       [3.02508669, 2.75610937, 2.59227876, ..., 2.97622436, 2.97622436,\n",
      "        2.97622436],\n",
      "       [3.02508669, 2.75610937, 2.59227876, ..., 2.97622436, 2.97622436,\n",
      "        2.97622436],\n",
      "       ...,\n",
      "       [3.02508669, 2.75610937, 2.59227876, ..., 2.97622436, 2.97622436,\n",
      "        2.97622436],\n",
      "       [3.02508669, 2.75610937, 2.59227876, ..., 2.97622436, 2.97622436,\n",
      "        2.97622436],\n",
      "       [3.02508669, 2.75610937, 2.59227876, ..., 2.97622436, 2.97622436,\n",
      "        2.97622436]]))\n",
      "('Test Rating: ', array([[3. , 0. , 0. , ..., 0. , 0. , 0. ],\n",
      "       [2. , 3.5, 0. , ..., 0. , 0. , 0. ],\n",
      "       [0. , 3. , 1.5, ..., 0. , 0. , 0. ],\n",
      "       ...,\n",
      "       [3. , 3. , 3. , ..., 0. , 0. , 0. ],\n",
      "       [5. , 4. , 0. , ..., 0. , 0. , 0. ],\n",
      "       [4. , 1. , 0. , ..., 0. , 0. , 0. ]]))\n",
      "('Root Mean Squared Error(RMS) = ', 884.8304620357674)\n",
      "('RMSE on Testing: ', 884.8304620357674)\n",
      "500\n",
      "7565\n",
      "('Dimensions of the Dataset: ', (500, 7072))\n",
      "('Dimensions of the Training Set: ', (375, 7072))\n",
      "('Dimensions of the Testing Set: ', (125, 7072))\n",
      "('Dimensions of the Answer Set: ', (93, 7072))\n",
      "('Dimensions of the Evaluation Set: ', (32, 7072))\n",
      "('Number of Users', 375)\n",
      "('Number of Movies', 7072)\n",
      "('Number of Latent Factors: ', 10)\n",
      "Entering Main Loop of alternateOptimization\n",
      "('Predicted_Rating for Test: ', array([[2.9964125 , 2.64605324, 2.54167411, ..., 2.95313697, 0.        ,\n",
      "        2.95313697],\n",
      "       [2.9964125 , 2.64605324, 2.54167411, ..., 2.95313697, 0.        ,\n",
      "        2.95313697],\n",
      "       [2.9964125 , 2.64605324, 2.54167411, ..., 2.95313697, 0.        ,\n",
      "        2.95313697],\n",
      "       ...,\n",
      "       [2.9964125 , 2.64605324, 2.54167411, ..., 2.95313697, 0.        ,\n",
      "        2.95313697],\n",
      "       [2.9964125 , 2.64605324, 2.54167411, ..., 2.95313697, 0.        ,\n",
      "        2.95313697],\n",
      "       [2.9964125 , 2.64605324, 2.54167411, ..., 2.95313697, 0.        ,\n",
      "        2.95313697]]))\n",
      "('Test Rating: ', array([[0. , 1. , 0. , ..., 0. , 0. , 0. ],\n",
      "       [0. , 0. , 0. , ..., 0. , 0. , 0. ],\n",
      "       [3. , 3. , 3. , ..., 0. , 0. , 0. ],\n",
      "       ...,\n",
      "       [0. , 0. , 0. , ..., 0. , 0. , 0. ],\n",
      "       [4. , 3. , 3. , ..., 0. , 0. , 0. ],\n",
      "       [2.5, 0. , 0. , ..., 0. , 0. , 0. ]]))\n",
      "('Root Mean Squared Error(RMS) = ', 853.2593164783032)\n",
      "('RMSE on Testing: ', 853.2593164783032)\n",
      "500\n",
      "7565\n",
      "('Dimensions of the Dataset: ', (500, 7072))\n",
      "('Dimensions of the Training Set: ', (375, 7072))\n",
      "('Dimensions of the Testing Set: ', (125, 7072))\n",
      "('Dimensions of the Answer Set: ', (93, 7072))\n",
      "('Dimensions of the Evaluation Set: ', (32, 7072))\n",
      "('Number of Users', 375)\n",
      "('Number of Movies', 7072)\n",
      "('Number of Latent Factors: ', 10)\n",
      "Entering Main Loop of alternateOptimization\n",
      "('Predicted_Rating for Test: ', array([[3.04366737, 2.74711337, 2.64788097, ..., 2.90598724, 2.70622492,\n",
      "        3.19826581],\n",
      "       [3.04366737, 2.74711337, 2.64788097, ..., 2.90598724, 2.70622492,\n",
      "        3.19826581],\n",
      "       [3.04366737, 2.74711337, 2.64788097, ..., 2.90598724, 2.70622492,\n",
      "        3.19826581],\n",
      "       ...,\n",
      "       [3.04366737, 2.74711337, 2.64788097, ..., 2.90598724, 2.70622492,\n",
      "        3.19826581],\n",
      "       [3.04366737, 2.74711337, 2.64788097, ..., 2.90598724, 2.70622492,\n",
      "        3.19826581],\n",
      "       [3.04366737, 2.74711337, 2.64788097, ..., 2.90598724, 2.70622492,\n",
      "        3.19826581]]))\n",
      "('Test Rating: ', array([[2.5, 0. , 0. , ..., 0. , 0. , 0. ],\n",
      "       [2.5, 0. , 0. , ..., 0. , 0. , 0. ],\n",
      "       [2.5, 2. , 1.5, ..., 0. , 0. , 0. ],\n",
      "       ...,\n",
      "       [1. , 4. , 3.5, ..., 0. , 0. , 0. ],\n",
      "       [5. , 3.5, 3.5, ..., 0. , 0. , 0. ],\n",
      "       [0.5, 0.5, 0.5, ..., 0. , 0. , 0. ]]))\n",
      "('Root Mean Squared Error(RMS) = ', 791.4739240813591)\n",
      "('RMSE on Testing: ', 791.4739240813591)\n"
     ]
    }
   ],
   "source": [
    "rmse1 = project_tmdb_lib.run(Lambda = Lambda[0])\n",
    "rmse2 = project_tmdb_lib.run(Lambda = Lambda[1])\n",
    "rmse3 = project_tmdb_lib.run(Lambda = Lambda[2])"
   ]
  },
  {
   "cell_type": "code",
   "execution_count": 8,
   "metadata": {},
   "outputs": [
    {
     "data": {
      "image/png": "[encoded data removed]",
      "text/plain": [
       "<Figure size 432x288 with 1 Axes>"
      ]
     },
     "metadata": {
      "needs_background": "light"
     },
     "output_type": "display_data"
    }
   ],
   "source": [
    "rmse = [rmse1,rmse2,rmse3]\n",
    "plt.plot(Lambda, rmse, color='yellow', linestyle='dashed', linewidth = 3, \n",
    "         marker='o', markerfacecolor='blue', markersize=8)\n",
    "plt.xlabel(\"lambda\")\n",
    "plt.ylabel(\"RMSE\")\n",
    "plt.show()"
   ]
  },
  {
   "cell_type": "markdown",
   "metadata": {},
   "source": [
    "### Performance with respect to number of iterations"
   ]
  },
  {
   "cell_type": "code",
   "execution_count": 9,
   "metadata": {},
   "outputs": [
    {
     "name": "stdout",
     "output_type": "stream",
     "text": [
      "500\n",
      "7565\n",
      "('Dimensions of the Dataset: ', (500, 7072))\n",
      "('Dimensions of the Training Set: ', (375, 7072))\n",
      "('Dimensions of the Testing Set: ', (125, 7072))\n",
      "('Dimensions of the Answer Set: ', (93, 7072))\n",
      "('Dimensions of the Evaluation Set: ', (32, 7072))\n",
      "('Number of Users', 375)\n",
      "('Number of Movies', 7072)\n",
      "('Number of Latent Factors: ', 10)\n",
      "Entering Main Loop of alternateOptimization\n",
      "('Predicted_Rating for Test: ', array([[3.00162438, 2.65613912, 2.64273611, ..., 2.97614646, 2.73902349,\n",
      "        3.23702776],\n",
      "       [3.00162438, 2.65613912, 2.64273611, ..., 2.97614646, 2.73902349,\n",
      "        3.23702776],\n",
      "       [3.00162438, 2.65613912, 2.64273611, ..., 2.97614646, 2.73902349,\n",
      "        3.23702776],\n",
      "       ...,\n",
      "       [3.00162438, 2.65613912, 2.64273611, ..., 2.97614646, 2.73902349,\n",
      "        3.23702776],\n",
      "       [3.00162438, 2.65613912, 2.64273611, ..., 2.97614646, 2.73902349,\n",
      "        3.23702776],\n",
      "       [3.00162438, 2.65613912, 2.64273611, ..., 2.97614646, 2.73902349,\n",
      "        3.23702776]]))\n",
      "('Test Rating: ', array([[3. , 0. , 2.5, ..., 0. , 0. , 0. ],\n",
      "       [0. , 2. , 0. , ..., 0. , 0. , 0. ],\n",
      "       [3. , 3. , 0. , ..., 0. , 0. , 0. ],\n",
      "       ...,\n",
      "       [0. , 3. , 0. , ..., 0. , 0. , 0. ],\n",
      "       [3.5, 0. , 0. , ..., 0. , 0. , 0. ],\n",
      "       [0. , 3. , 0. , ..., 0. , 0. , 0. ]]))\n",
      "('Root Mean Squared Error(RMS) = ', 799.1667887594115)\n",
      "('RMSE on Testing: ', 799.1667887594115)\n",
      "500\n",
      "7565\n",
      "('Dimensions of the Dataset: ', (500, 7072))\n",
      "('Dimensions of the Training Set: ', (375, 7072))\n",
      "('Dimensions of the Testing Set: ', (125, 7072))\n",
      "('Dimensions of the Answer Set: ', (93, 7072))\n",
      "('Dimensions of the Evaluation Set: ', (32, 7072))\n",
      "('Number of Users', 375)\n",
      "('Number of Movies', 7072)\n",
      "('Number of Latent Factors: ', 10)\n",
      "Entering Main Loop of alternateOptimization\n",
      "('Predicted_Rating for Test: ', array([[2.98631397, 2.68871633, 2.60103679, ..., 2.97638734, 2.48032278,\n",
      "        3.4724519 ],\n",
      "       [2.98631397, 2.68871633, 2.60103679, ..., 2.97638734, 2.48032278,\n",
      "        3.4724519 ],\n",
      "       [2.98631397, 2.68871633, 2.60103679, ..., 2.97638734, 2.48032278,\n",
      "        3.4724519 ],\n",
      "       ...,\n",
      "       [2.98631397, 2.68871633, 2.60103679, ..., 2.97638734, 2.48032278,\n",
      "        3.4724519 ],\n",
      "       [2.98631397, 2.68871633, 2.60103679, ..., 2.97638734, 2.48032278,\n",
      "        3.4724519 ],\n",
      "       [2.98631397, 2.68871633, 2.60103679, ..., 2.97638734, 2.48032278,\n",
      "        3.4724519 ]]))\n",
      "('Test Rating: ', array([[3. , 3. , 3. , ..., 0. , 0. , 0. ],\n",
      "       [0. , 3. , 1.5, ..., 0. , 0. , 0. ],\n",
      "       [4. , 0. , 0. , ..., 0. , 0. , 0. ],\n",
      "       ...,\n",
      "       [5. , 4. , 0. , ..., 0. , 0. , 0. ],\n",
      "       [3. , 3. , 3. , ..., 0. , 0. , 0. ],\n",
      "       [2.5, 0.5, 0. , ..., 0. , 0. , 0. ]]))\n",
      "('Root Mean Squared Error(RMS) = ', 750.9134767932281)\n",
      "('RMSE on Testing: ', 750.9134767932281)\n",
      "500\n",
      "7565\n",
      "('Dimensions of the Dataset: ', (500, 7072))\n",
      "('Dimensions of the Training Set: ', (375, 7072))\n",
      "('Dimensions of the Testing Set: ', (125, 7072))\n",
      "('Dimensions of the Answer Set: ', (93, 7072))\n",
      "('Dimensions of the Evaluation Set: ', (32, 7072))\n",
      "('Number of Users', 375)\n",
      "('Number of Movies', 7072)\n",
      "('Number of Latent Factors: ', 10)\n",
      "Entering Main Loop of alternateOptimization\n",
      "('Predicted_Rating for Test: ', array([[3.00158856, 2.68707191, 2.5874565 , ..., 2.97676056, 2.73930717,\n",
      "        3.47288732],\n",
      "       [3.00158856, 2.68707191, 2.5874565 , ..., 2.97676056, 2.73930717,\n",
      "        3.47288732],\n",
      "       [3.00158856, 2.68707191, 2.5874565 , ..., 2.97676056, 2.73930717,\n",
      "        3.47288732],\n",
      "       ...,\n",
      "       [3.00158856, 2.68707191, 2.5874565 , ..., 2.97676056, 2.73930717,\n",
      "        3.47288732],\n",
      "       [3.00158856, 2.68707191, 2.5874565 , ..., 2.97676056, 2.73930717,\n",
      "        3.47288732],\n",
      "       [3.00158856, 2.68707191, 2.5874565 , ..., 2.97676056, 2.73930717,\n",
      "        3.47288732]]))\n",
      "('Test Rating: ', array([[0. , 0. , 3. , ..., 0. , 0. , 0. ],\n",
      "       [0. , 0. , 0. , ..., 0. , 0. , 0. ],\n",
      "       [0. , 0. , 0. , ..., 0. , 0. , 0. ],\n",
      "       ...,\n",
      "       [3. , 2.5, 0. , ..., 0. , 0. , 0. ],\n",
      "       [2. , 2. , 0. , ..., 0. , 0. , 0. ],\n",
      "       [2. , 0. , 0. , ..., 0. , 0. , 0. ]]))\n",
      "('Root Mean Squared Error(RMS) = ', 762.1788120428749)\n",
      "('RMSE on Testing: ', 762.1788120428749)\n"
     ]
    }
   ],
   "source": [
    "rmse1 = project_tmdb_lib.run(iterations = iterations[0])\n",
    "rmse2 = project_tmdb_lib.run(iterations = iterations[1])\n",
    "rmse3 = project_tmdb_lib.run(iterations = iterations[2])"
   ]
  },
  {
   "cell_type": "code",
   "execution_count": 10,
   "metadata": {},
   "outputs": [
    {
     "data": {
      "image/png": "[encoded data removed]",
      "text/plain": [
       "<Figure size 432x288 with 1 Axes>"
      ]
     },
     "metadata": {
      "needs_background": "light"
     },
     "output_type": "display_data"
    }
   ],
   "source": [
    "rmse = [rmse1,rmse2,rmse3]\n",
    "plt.plot(iterations, rmse, color='red', linestyle='dashed', linewidth = 3, \n",
    "         marker='o', markerfacecolor='blue', markersize=8)\n",
    "plt.xlabel(\"number of iterations\")\n",
    "plt.ylabel(\"RMSE\")\n",
    "plt.show()"
   ]
  },
  {
   "cell_type": "markdown",
   "metadata": {},
   "source": [
    "### Performance with respect to number of users with most ratings"
   ]
  },
  {
   "cell_type": "code",
   "execution_count": 11,
   "metadata": {},
   "outputs": [
    {
     "name": "stdout",
     "output_type": "stream",
     "text": [
      "500\n",
      "7565\n",
      "('Dimensions of the Dataset: ', (500, 7072))\n",
      "('Dimensions of the Training Set: ', (375, 7072))\n",
      "('Dimensions of the Testing Set: ', (125, 7072))\n",
      "('Dimensions of the Answer Set: ', (93, 7072))\n",
      "('Dimensions of the Evaluation Set: ', (32, 7072))\n",
      "('Number of Users', 375)\n",
      "('Number of Movies', 7072)\n",
      "('Number of Latent Factors: ', 10)\n",
      "Entering Main Loop of alternateOptimization\n",
      "('Predicted_Rating for Test: ', array([[2.95825356, 2.64530334, 2.58927313, ..., 0.        , 2.73936249,\n",
      "        3.2374284 ],\n",
      "       [2.95825356, 2.64530334, 2.58927313, ..., 0.        , 2.73936249,\n",
      "        3.2374284 ],\n",
      "       [2.95825356, 2.64530334, 2.58927313, ..., 0.        , 2.73936249,\n",
      "        3.2374284 ],\n",
      "       ...,\n",
      "       [2.95825356, 2.64530334, 2.58927313, ..., 0.        , 2.73936249,\n",
      "        3.2374284 ],\n",
      "       [2.95825356, 2.64530334, 2.58927313, ..., 0.        , 2.73936249,\n",
      "        3.2374284 ],\n",
      "       [2.95825356, 2.64530334, 2.58927313, ..., 0.        , 2.73936249,\n",
      "        3.2374284 ]]))\n",
      "('Test Rating: ', array([[3.5, 0. , 0. , ..., 0. , 0. , 0. ],\n",
      "       [2.5, 0. , 0. , ..., 0. , 0. , 0. ],\n",
      "       [3. , 0. , 0. , ..., 0. , 0. , 0. ],\n",
      "       ...,\n",
      "       [3. , 3. , 3. , ..., 0. , 0. , 0. ],\n",
      "       [4. , 0. , 0. , ..., 0. , 0. , 0. ],\n",
      "       [4. , 3. , 4. , ..., 0. , 0. , 0. ]]))\n",
      "('Root Mean Squared Error(RMS) = ', 766.5373248332749)\n",
      "('RMSE on Testing: ', 766.5373248332749)\n",
      "1000\n",
      "7565\n",
      "('Dimensions of the Dataset: ', (1000, 7162))\n",
      "('Dimensions of the Training Set: ', (750, 7162))\n",
      "('Dimensions of the Testing Set: ', (250, 7162))\n",
      "('Dimensions of the Answer Set: ', (187, 7162))\n",
      "('Dimensions of the Evaluation Set: ', (63, 7162))\n",
      "('Number of Users', 750)\n",
      "('Number of Movies', 7162)\n",
      "('Number of Latent Factors: ', 10)\n",
      "Entering Main Loop of alternateOptimization\n",
      "('Predicted_Rating for Test: ', array([[2.98863386, 2.74394555, 2.57592453, ..., 2.73892636, 3.23691297,\n",
      "        0.        ],\n",
      "       [2.98863386, 2.74394555, 2.57592453, ..., 2.73892636, 3.23691297,\n",
      "        0.        ],\n",
      "       [2.98863386, 2.74394555, 2.57592453, ..., 2.73892636, 3.23691297,\n",
      "        0.        ],\n",
      "       ...,\n",
      "       [2.98863386, 2.74394555, 2.57592453, ..., 2.73892636, 3.23691297,\n",
      "        0.        ],\n",
      "       [2.98863386, 2.74394555, 2.57592453, ..., 2.73892636, 3.23691297,\n",
      "        0.        ],\n",
      "       [2.98863386, 2.74394555, 2.57592453, ..., 2.73892636, 3.23691297,\n",
      "        0.        ]]))\n",
      "('Test Rating: ', array([[3.5, 3.5, 0. , ..., 0. , 0. , 0. ],\n",
      "       [2.5, 0. , 2. , ..., 0. , 0. , 0. ],\n",
      "       [3.5, 0. , 3. , ..., 0. , 0. , 0. ],\n",
      "       ...,\n",
      "       [0. , 3.5, 0. , ..., 0. , 0. , 0. ],\n",
      "       [3. , 3.5, 0. , ..., 0. , 0. , 0. ],\n",
      "       [4. , 0. , 0. , ..., 0. , 0. , 0. ]]))\n",
      "('Root Mean Squared Error(RMS) = ', 632.2611824431092)\n",
      "('RMSE on Testing: ', 632.2611824431092)\n",
      "1500\n",
      "7565\n",
      "('Dimensions of the Dataset: ', (1500, 7205))\n",
      "('Dimensions of the Training Set: ', (1125, 7205))\n",
      "('Dimensions of the Testing Set: ', (375, 7205))\n",
      "('Dimensions of the Answer Set: ', (281, 7205))\n",
      "('Dimensions of the Evaluation Set: ', (94, 7205))\n",
      "('Number of Users', 1125)\n",
      "('Number of Movies', 7205)\n",
      "('Number of Latent Factors: ', 10)\n",
      "Entering Main Loop of alternateOptimization\n",
      "('Predicted_Rating for Test: ', array([[3.02578147, 2.77248493, 2.60394814, ..., 2.97635728, 2.97635728,\n",
      "        0.99211909],\n",
      "       [3.02578147, 2.77248493, 2.60394814, ..., 2.97635728, 2.97635728,\n",
      "        0.99211909],\n",
      "       [3.02578147, 2.77248493, 2.60394814, ..., 2.97635728, 2.97635728,\n",
      "        0.99211909],\n",
      "       ...,\n",
      "       [3.02578147, 2.77248493, 2.60394814, ..., 2.97635728, 2.97635728,\n",
      "        0.99211909],\n",
      "       [3.02578147, 2.77248493, 2.60394814, ..., 2.97635728, 2.97635728,\n",
      "        0.99211909],\n",
      "       [3.02578147, 2.77248493, 2.60394814, ..., 2.97635728, 2.97635728,\n",
      "        0.99211909]]))\n",
      "('Test Rating: ', array([[0. , 0. , 0. , ..., 0. , 0. , 0. ],\n",
      "       [0.5, 0.5, 1. , ..., 0. , 0. , 0. ],\n",
      "       [4. , 4. , 3.5, ..., 0. , 0. , 0. ],\n",
      "       ...,\n",
      "       [3. , 0. , 0. , ..., 0. , 0. , 0. ],\n",
      "       [3. , 3.5, 3. , ..., 0. , 0. , 0. ],\n",
      "       [1.5, 0. , 0. , ..., 0. , 0. , 0. ]]))\n",
      "('Root Mean Squared Error(RMS) = ', 576.5797905682131)\n",
      "('RMSE on Testing: ', 576.5797905682131)\n"
     ]
    }
   ],
   "source": [
    "rmse1 = project_tmdb_lib.run(max_users = max_users[0])\n",
    "rmse2 = project_tmdb_lib.run(max_users = max_users[1])\n",
    "rmse3 = project_tmdb_lib.run(max_users = max_users[2])"
   ]
  },
  {
   "cell_type": "code",
   "execution_count": 12,
   "metadata": {},
   "outputs": [
    {
     "data": {
      "image/png": "[encoded data removed]",
      "text/plain": [
       "<Figure size 432x288 with 1 Axes>"
      ]
     },
     "metadata": {
      "needs_background": "light"
     },
     "output_type": "display_data"
    }
   ],
   "source": [
    "rmse = [rmse1,rmse2,rmse3]\n",
    "plt.plot(max_users, rmse, color='green', linestyle='dashed', linewidth = 3, \n",
    "         marker='o', markerfacecolor='blue', markersize=8)\n",
    "plt.xlabel(\"number of users with most ratings\")\n",
    "plt.ylabel(\"RMSE\")\n",
    "plt.show()"
   ]
  },
  {
   "cell_type": "code",
   "execution_count": null,
   "metadata": {},
   "outputs": [],
   "source": []
  }
 ],
 "metadata": {
  "kernelspec": {
   "display_name": "Python 3",
   "language": "python",
   "name": "python3"
  },
  "language_info": {
   "codemirror_mode": {
    "name": "ipython",
    "version": 2
   },
   "file_extension": ".py",
   "mimetype": "text/x-python",
   "name": "python",
   "nbconvert_exporter": "python",
   "pygments_lexer": "ipython2",
   "version": "2.7.15rc1"
  }
 },
 "nbformat": 4,
 "nbformat_minor": 2
}
